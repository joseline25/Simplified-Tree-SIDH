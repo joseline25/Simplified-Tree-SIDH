{
 "cells": [
  {
   "cell_type": "code",
   "execution_count": 3,
   "metadata": {
    "collapsed": false
   },
   "outputs": [
   ],
   "source": [
    "prime = {3, 5, 7, 11, 13, 17, 19, 23, 29, 31, 37, 41, 43, 47, 53, 59, 61, 67, 71, 73, 79, 83, 89, 97, 101, 103, 107, 109, 113, 127, 131, 137, 139, 149, 151, 157, 163, 167, 173, 179, 181, 191, 193, 197, 199, 211, 223, 227, 229, 233, 239, 241, 251, 257, 263, 269, 271, 277, 281, 283, 293, 307, 311, 313, 317, 331, 337, 347, 349, 353, 359, 367, 373, 379, 383, 389, 397, 401, 409, 419, 421, 431, 433, 439, 443, 449, 457, 461, 463, 467, 479, 487, 491, 499, 503, 509, 521, 523, 541, 547, 557, 563, 569, 571, 577, 587, 593, 599, 601, 607, 613, 617, 619, 631, 641, 643, 647, 653, 659, 661, 673, 677, 683, 691, 701, 709, 719, 727, 733, 739, 743, 751, 757, 761, 769, 773, 787, 797, 809, 811, 821, 823, 827, 829, 839, 853, 857, 859, 863, 877, 881, 883, 887, 907, 911, 919, 929, 937, 941, 947, 953, 967, 971, 977, 983, 991, 997, 1009, 1013, 1019, 1021, 1031, 1033, 1039, 1049, 1051, 1061, 1063, 1069, 1087, 1091, 1093, 1097, 1103, 1109, 1117, 1123, 1129, 1151, 1153, 1163, 1171, 1181, 1187, 1193, 1201, 1213, 1217, 1223, 1229, 1231, 1237, 1249, 1259, 1277, 1279, 1283, 1289, 1291, 1297, 1301, 1303, 1307, 1319, 1321, 1327, 1361, 1367, 1373, 1381, 1399, 1409, 1423, 1427, 1429, 1433, 1439, 1447, 1451, 1453, 1459, 1471, 1481, 1483, 1487, 1489, 1493, 1499, 1511, 1523, 1531, 1543, 1549, 1553, 1559, 1567, 1571, 1579, 1583, 1597, 1601, 1607, 1609, 1613, 1619, 1621, 1627, 1637, 1657, 1663, 1667, 1669, 1693, 1697, 1699, 1709, 1721, 1723, 1733, 1741, 1747, 1753, 1759, 1777, 1783, 1787, 1789, 1801, 1811, 1823, 1831, 1847, 1861, 1867, 1871, 1873, 1877, 1879, 1889, 1901, 1907, 1913, 1931, 1933, 1949, 1951, 1973, 1979, 1987, 1993, 1997, 1999, 2003, 2011, 2017, 2027, 2029, 2039, 2053, 2063, 2069, 2081, 2083, 2087, 2089, 2099, 2111, 2113, 2129, 2131, 2137, 2141, 2143, 2153, 2161, 2179, 2203, 2207, 2213, 2221, 2237, 2239, 2243, 2251, 2267, 2269, 2273, 2281, 2287, 2293, 2297, 2309, 2311, 2333, 2339, 2341, 2347, 2351, 2357, 2371, 2377, 2381, 2383, 2389, 2393, 2399, 2411, 2417, 2423, 2437, 2441, 2447, 2459, 2467, 2473, 2477, 2503, 2521, 2531, 2539, 2543, 2549, 2551, 2557, 2579, 2591, 2593, 2609, 2617, 2621, 2633, 2647, 2657, 2659, 2663, 2671, 2677, 2683, 2687, 2689, 2693, 2699, 2707, 2711, 2713, 2719, 2729, 2731, 2741, 2749, 2753, 2767, 2777, 2789, 2791, 2797, 2801, 2803, 2819, 2833, 2837, 2843, 2851, 2857, 2861, 2879, 2887, 2897, 2903, 2909, 2917, 2927, 2939, 2953, 2957, 2963, 2969, 2971, 2999, 3001, 3011, 3019, 3023, 3037, 3041, 3049, 3061, 3067, 3079, 3083, 3089, 3109, 3119, 3121, 3137, 3163, 3167, 3169, 3181, 3187, 3191, 3203, 3209, 3217, 3221, 3229, 3251, 3253, 3257, 3259, 3271, 3299, 3301, 3307, 3313, 3319, 3323, 3329, 3331, 3343, 3347, 3359, 3361, 3371, 3373, 3389, 3391, 3407, 3413, 3433, 3449, 3457, 3461, 3463, 3467, 3469, 3491, 3499, 3511, 3517, 3527, 3529, 3533, 3539, 3541, 3547, 3557, 3559, 3571, 3581, 3583, 3593, 3607, 3613, 3617, 3623, 3631, 3637, 3643, 3659, 3671, 3673, 3677, 3691, 3697, 3701, 3709, 3719, 3727, 3733, 3739, 3761, 3767, 3769, 3779, 3793, 3797, 3803, 3821, 3823, 3833, 3847, 3851, 3853, 3863, 3877, 3881, 3889, 3907, 3911, 3917, 3919, 3923, 3929, 3931, 3943, 3947, 3967, 3989, 4001, 4003, 4007, 4013, 4019, 4021, 4027, 4049, 4051, 4057, 4073, 4079, 4091, 4093, 4099, 4111, 4127, 4129, 4133, 4139, 4153, 4157, 6701};"
   ]
  },
  {
   "cell_type": "code",
   "execution_count": 4,
   "metadata": {
    "collapsed": false
   },
   "outputs": [
    {
     "data": {
      "text/plain": [
       "[3,\n",
       " 5,\n",
       " 7,\n",
       " 11,\n",
       " 13,\n",
       " 17,\n",
       " 19,\n",
       " 23,\n",
       " 29,\n",
       " 31,\n",
       " 37,\n",
       " 41,\n",
       " 43,\n",
       " 47,\n",
       " 53,\n",
       " 59,\n",
       " 61,\n",
       " 67,\n",
       " 71,\n",
       " 73,\n",
       " 79,\n",
       " 83,\n",
       " 89,\n",
       " 97,\n",
       " 101,\n",
       " 103,\n",
       " 107,\n",
       " 109,\n",
       " 113,\n",
       " 127,\n",
       " 131,\n",
       " 137]"
      ]
     },
     "execution_count": 4,
     "metadata": {
     },
     "output_type": "execute_result"
    }
   ],
   "source": [
    "prime = sorted(prime)[:32]\n",
    "prime"
   ]
  },
  {
   "cell_type": "code",
   "execution_count": 5,
   "metadata": {
    "collapsed": false
   },
   "outputs": [
    {
     "name": "stdout",
     "output_type": "stream",
     "text": [
      "Primes with odd indexes: [5, 11, 17, 23, 31, 41, 47, 59, 67, 73, 83, 97, 103, 109, 127, 137]\n",
      "Primes with even indexes: [3, 7, 13, 19, 29, 37, 43, 53, 61, 71, 79, 89, 101, 107, 113, 131]\n"
     ]
    }
   ],
   "source": [
    "# Convert the set to a sorted list\n",
    "primes_list = sorted(prime)\n",
    "\n",
    "# Initialize lists for odd and even indexed primes\n",
    "odd_index_primes = []\n",
    "even_index_primes = []\n",
    "\n",
    "# Separate the primes based on their indexes\n",
    "for i, prime in enumerate(primes_list):\n",
    "    if i % 2 == 0:\n",
    "        even_index_primes.append(prime)\n",
    "    else:\n",
    "        odd_index_primes.append(prime)\n",
    "\n",
    "# Print the results\n",
    "print(\"Primes with odd indexes:\", odd_index_primes)\n",
    "print(\"Primes with even indexes:\", even_index_primes)"
   ]
  },
  {
   "cell_type": "code",
   "execution_count": 6,
   "metadata": {
    "collapsed": false
   },
   "outputs": [
   ],
   "source": [
    "from functools import reduce\n",
    "import operator\n",
    "\n",
    "# Function to compute the product of all numbers in a list\n",
    "def product_of_list(lst):\n",
    "    return reduce(operator.mul, lst, 1)"
   ]
  },
  {
   "cell_type": "code",
   "execution_count": 7,
   "metadata": {
    "collapsed": false
   },
   "outputs": [
    {
     "data": {
      "text/plain": [
       "61790323281691893111408549"
      ]
     },
     "execution_count": 7,
     "metadata": {
     },
     "output_type": "execute_result"
    }
   ],
   "source": [
    "A = product_of_list(even_index_primes)\n",
    "A"
   ]
  },
  {
   "cell_type": "code",
   "execution_count": 8,
   "metadata": {
    "collapsed": false
   },
   "outputs": [
    {
     "data": {
      "text/plain": [
       "583002433097459956230657095"
      ]
     },
     "execution_count": 8,
     "metadata": {
     },
     "output_type": "execute_result"
    }
   ],
   "source": [
    "B= product_of_list(odd_index_primes)\n",
    "B"
   ]
  },
  {
   "cell_type": "code",
   "execution_count": 9,
   "metadata": {
    "collapsed": false
   },
   "outputs": [
   ],
   "source": [
    "# Function to find an integer f such that 4 * f * A * B - 1 is prime\n",
    "def find_f(A, B, start=1):\n",
    "    f = start\n",
    "    while True:\n",
    "        candidate = 4 * f * A * B - 1\n",
    "        if is_prime(candidate):\n",
    "            return f, candidate\n",
    "        f += 1\n",
    "\n",
    "f, p = find_f(A, B)"
   ]
  },
  {
   "cell_type": "code",
   "execution_count": 10,
   "metadata": {
    "collapsed": false
   },
   "outputs": [
    {
     "data": {
      "text/plain": [
       "(15, 2161434528906300014570338085967612962021511076230309299)"
      ]
     },
     "execution_count": 10,
     "metadata": {
     },
     "output_type": "execute_result"
    }
   ],
   "source": [
    "f, p"
   ]
  },
  {
   "cell_type": "code",
   "execution_count": 11,
   "metadata": {
    "collapsed": false
   },
   "outputs": [
    {
     "data": {
      "text/plain": [
       "(Elliptic Curve defined by y^2 = x^3 + 1 over Finite Field in i of size 2161434528906300014570338085967612962021511076230309299^2,\n",
       " True)"
      ]
     },
     "execution_count": 11,
     "metadata": {
     },
     "output_type": "execute_result"
    }
   ],
   "source": [
    "# calcul du corps de base de la courbe\n",
    "F.<i> = GF(p^2, modulus = x^2 + 1)\n",
    "E = EllipticCurve(F, [0,1])\n",
    "E, E.is_supersingular()"
   ]
  },
  {
   "cell_type": "code",
   "execution_count": 12,
   "metadata": {
    "collapsed": false
   },
   "outputs": [
   ],
   "source": [
    "# random point P of order == order\n",
    "def get_rand_point_ord(order, E, ord_oth):\n",
    "    P = E.random_point()\n",
    "    P_prime = (ord_oth * 4) ** 2 * P\n",
    "    while P_prime.order() != order:\n",
    "        P = E.random_point()\n",
    "        P_prime = (ord_oth * 4) ** 2 * P\n",
    "    return P_prime"
   ]
  },
  {
   "cell_type": "code",
   "execution_count": 13,
   "metadata": {
    "collapsed": false
   },
   "outputs": [
   ],
   "source": [
    "# generate a torsion basis \n",
    "def get_random_base(order, E, ord_oth):\n",
    "    P = get_rand_point_ord(order, E, ord_oth)\n",
    "    Q = get_rand_point_ord(order, E, ord_oth)\n",
    "    while P.weil_pairing(Q, order).multiplicative_order() != order:\n",
    "        Q = get_rand_point_ord(order, E, ord_oth)\n",
    "    return P, Q"
   ]
  },
  {
   "cell_type": "code",
   "execution_count": 14,
   "metadata": {
    "collapsed": false
   },
   "outputs": [
   ],
   "source": [
    "P = get_rand_point_ord(A, E, B)\n",
    "#PA, QA = get_random_base(A, E, f * B * 4)\n",
    "#PB, QB = get_random_base(B, E, f * A * 4)"
   ]
  },
  {
   "cell_type": "code",
   "execution_count": 15,
   "metadata": {
    "collapsed": false
   },
   "outputs": [
    {
     "data": {
      "text/plain": [
       "((994293981579003907024582813607015122916651893134409218*i + 1900723399811227260400502232411422101827994712870160589 : 272124436628120678291833504779729715326370013407548695*i + 1396209848081125235840107893131132321987301457263000411 : 1),\n",
       " (790954359380613325820407507622203744061992058865113324*i + 233017366967282387034461147707440360104660277489635439 : 2006335783196028220112252896524814905674190877852451430*i + 1020235538783361743165049696990529302941761788067161902 : 1))"
      ]
     },
     "execution_count": 15,
     "metadata": {
     },
     "output_type": "execute_result"
    }
   ],
   "source": [
    "PA, QA = get_random_base(A, E, B)\n",
    "PA, QA"
   ]
  },
  {
   "cell_type": "code",
   "execution_count": 16,
   "metadata": {
    "collapsed": false
   },
   "outputs": [
    {
     "data": {
      "text/plain": [
       "((1832789451245549283512951407430455005805820150311881022*i + 2099049765217160012558275861587137792118307632612638496 : 1399993952645083514502493757847932027089890053856004338*i + 1370462261555521130328001542478205277640205976626883262 : 1),\n",
       " (1415579997937776833198496643385113236979332283285385918*i + 2125969807649088940712291627948323628647977152927232971 : 2072118010494415009862269557179417432857123370399034524*i + 1170081402758696461056851815541643757912005118161360255 : 1))"
      ]
     },
     "execution_count": 16,
     "metadata": {
     },
     "output_type": "execute_result"
    }
   ],
   "source": [
    "PB, QB = get_random_base(B, E, A)\n",
    "PB, QB"
   ]
  },
  {
   "cell_type": "code",
   "execution_count": 17,
   "metadata": {
    "collapsed": false
   },
   "outputs": [
    {
     "data": {
      "text/plain": [
       "True"
      ]
     },
     "execution_count": 17,
     "metadata": {
     },
     "output_type": "execute_result"
    }
   ],
   "source": [
    "PA.order() == A"
   ]
  },
  {
   "cell_type": "code",
   "execution_count": 18,
   "metadata": {
    "collapsed": false
   },
   "outputs": [
   ],
   "source": [
    "# params A for 2i+1 and B for 2i+2\n",
    "\n",
    "params = {}\n",
    "params['A'] = [PA, QA, A]\n",
    "params['B'] = [PB, QB, B]\n",
    "def get_other(name):\n",
    "    if name == 'A':\n",
    "        return params['B']\n",
    "    elif name == 'B':\n",
    "        return params['A']"
   ]
  },
  {
   "cell_type": "code",
   "execution_count": 19,
   "metadata": {
    "collapsed": false
   },
   "outputs": [
   ],
   "source": [
    "def isogeny_graph_walk(E, P, alpha, P_oth = None, Q_oth = None):\n",
    "    phi = E.isogeny(P, algorithm=\"factored\")\n",
    "    if (P_oth != None and Q_oth != None):\n",
    "        P_oth = alpha*phi(P_oth)\n",
    "        Q_oth = alpha*phi(Q_oth)\n",
    "\n",
    "    return (phi.codomain(),P_oth, Q_oth)"
   ]
  },
  {
   "cell_type": "code",
   "execution_count": 20,
   "metadata": {
    "collapsed": false
   },
   "outputs": [
   ],
   "source": [
    "import random\n",
    "class Entity:\n",
    "    def __init__(self, name):\n",
    "        self.name = name\n",
    "        self.P = params[name][0]\n",
    "        self.Q = params[name][1]\n",
    "        self.factor = params[name][2]\n",
    "        \n",
    "        self.sk = random.randrange(self.factor)\n",
    "        self.S = self.P + self.sk * self.Q\n",
    "        \n",
    "        other = get_other(self.name)\n",
    "        ring_other = Integers(other[2])\n",
    "        self.alpha = Integer(random.choice(ring_other(1).nth_root(2, all=True)))\n",
    "        assert self.factor == self.S.order()\n",
    "        self.pk = self.gen_pub_key(get_other(self.name))\n",
    "        \n",
    "        \n",
    "    def gen_pub_key(self, other):\n",
    "        return isogeny_graph_walk(E, self.S, self.alpha, other[0], other[1])\n",
    "    \n",
    "    def gen_shared_key(self, peer):\n",
    "        S = peer.pk[1] + self.sk * peer.pk[2]\n",
    "        shared_curve, _, _ = isogeny_graph_walk(peer.pk[0], S, self.alpha)\n",
    "        return shared_curve.j_invariant()"
   ]
  },
  {
   "cell_type": "code",
   "execution_count": 21,
   "metadata": {
    "collapsed": false
   },
   "outputs": [
    {
     "name": "stdout",
     "output_type": "stream",
     "text": [
      "Started generation of PKA\n"
     ]
    },
    {
     "name": "stdout",
     "output_type": "stream",
     "text": [
      "Started generation of PKB\n"
     ]
    },
    {
     "name": "stdout",
     "output_type": "stream",
     "text": [
      "Started generation of secA\n"
     ]
    },
    {
     "name": "stdout",
     "output_type": "stream",
     "text": [
      "Started generation of secB\n"
     ]
    },
    {
     "name": "stdout",
     "output_type": "stream",
     "text": [
      "Time elapsed (s): 7.498045591004484\n"
     ]
    }
   ],
   "source": [
    "import time\n",
    "t0 = time.perf_counter()\n",
    "print('Started generation of PKA')\n",
    "A = Entity('A')\n",
    "\n",
    "print('Started generation of PKB')\n",
    "B = Entity('B')\n",
    "print('Started generation of secA')\n",
    "\n",
    "secA = A.gen_shared_key(B)\n",
    "print('Started generation of secB')\n",
    "secB = B.gen_shared_key(A)\n",
    "\n",
    "t1 = time.perf_counter()\n",
    "assert secA == secB\n",
    "print(\"Time elapsed (s):\", t1 - t0)"
   ]
  },
  {
   "cell_type": "code",
   "execution_count": 22,
   "metadata": {
    "collapsed": false
   },
   "outputs": [
    {
     "data": {
      "text/plain": [
       "405820856084735522007019759471091883967339542598644394*i + 1003659263898170919119331435761577351519931707534418291"
      ]
     },
     "execution_count": 22,
     "metadata": {
     },
     "output_type": "execute_result"
    }
   ],
   "source": [
    "secA"
   ]
  },
  {
   "cell_type": "code",
   "execution_count": 23,
   "metadata": {
    "collapsed": false
   },
   "outputs": [
    {
     "data": {
      "text/plain": [
       "405820856084735522007019759471091883967339542598644394*i + 1003659263898170919119331435761577351519931707534418291"
      ]
     },
     "execution_count": 23,
     "metadata": {
     },
     "output_type": "execute_result"
    }
   ],
   "source": [
    "secB"
   ]
  },
  {
   "cell_type": "code",
   "execution_count": 24,
   "metadata": {
    "collapsed": false
   },
   "outputs": [
    {
     "name": "stdout",
     "output_type": "stream",
     "text": [
      "Binary representation: 01010011110101000101110001001001001101001011010011000011010100000111110000001101011100001000100110100100000110101011010010110111011101111011101000111111110001100100100100001011100110010000111100101010011110010111001101100001010100110111011110100101101100010001011011000101111100111110011110110110111000111001111001100001001100000010100101100100111111001010101010\n"
     ]
    }
   ],
   "source": [
    "# progression dans l'arbre si on est un noeud intermediaire\n",
    "\n",
    "# extract the coefficients of the element\n",
    "coefficients = secB.polynomial().coefficients()\n",
    "\n",
    "# convert each coefficient to binary and concatenate\n",
    "binary_representation = ''.join([bin(int(coeff))[2:].zfill(p.bit_length()) for coeff in coefficients])\n",
    "\n",
    "print(\"Binary representation:\", binary_representation)"
   ]
  },
  {
   "cell_type": "code",
   "execution_count": 25,
   "metadata": {
    "collapsed": false
   },
   "outputs": [
   ],
   "source": [
    "def binary_representation(element, p):\n",
    "    # extract the coefficients of the element\n",
    "    coefficients = secB.polynomial().coefficients()\n",
    "    # convert each coefficient to binary and concatenate\n",
    "    binary_representation = ''.join([bin(int(coeff))[2:].zfill(p.bit_length()) for coeff in coefficients])\n",
    "    return binary_representation"
   ]
  },
  {
   "cell_type": "code",
   "execution_count": 26,
   "metadata": {
    "collapsed": false
   },
   "outputs": [
   ],
   "source": [
    "def field_elemnts_xor(element1, element2, p):\n",
    "    # Extract the coefficients of the elements\n",
    "    coeffs1 = element1.polynomial().coefficients()\n",
    "    coeffs2 = element2.polynomial().coefficients()\n",
    "\n",
    "    # Perform the XOR operation on the corresponding coefficients\n",
    "    coeffs_xor = [(int(c1) ^ int(c2)) % p for c1, c2 in zip(coeffs1, coeffs2)]\n",
    "\n",
    "    # Construct the result as a finite field element\n",
    "    result = sum(F(c) * (i^n) for n, c in enumerate(coeffs_xor))\n",
    "\n",
    "    return  result"
   ]
  },
  {
   "cell_type": "code",
   "execution_count": 27,
   "metadata": {
    "collapsed": false
   },
   "outputs": [
    {
     "ename": "KeyboardInterrupt",
     "evalue": "",
     "output_type": "error",
     "traceback": [
      "\u001b[0;31m---------------------------------------------------------------------------\u001b[0m",
      "\u001b[0;31mKeyboardInterrupt\u001b[0m                         Traceback (most recent call last)",
      "Cell \u001b[0;32mIn [27], line 1\u001b[0m\n\u001b[0;32m----> 1\u001b[0m \u001b[43mfield_elemnts_xor\u001b[49m\u001b[43m(\u001b[49m\u001b[43msecA\u001b[49m\u001b[43m,\u001b[49m\u001b[43m \u001b[49m\u001b[43msecB\u001b[49m\u001b[43m,\u001b[49m\u001b[43mp\u001b[49m\u001b[43m)\u001b[49m\n",
      "Cell \u001b[0;32mIn [26], line 7\u001b[0m, in \u001b[0;36mfield_elemnts_xor\u001b[0;34m(element1, element2, p)\u001b[0m\n\u001b[1;32m      4\u001b[0m coeffs2 \u001b[38;5;241m=\u001b[39m element2\u001b[38;5;241m.\u001b[39mpolynomial()\u001b[38;5;241m.\u001b[39mcoefficients()\n\u001b[1;32m      6\u001b[0m \u001b[38;5;66;03m# Perform the XOR operation on the corresponding coefficients\u001b[39;00m\n\u001b[0;32m----> 7\u001b[0m coeffs_xor \u001b[38;5;241m=\u001b[39m \u001b[43m[\u001b[49m\u001b[43m(\u001b[49m\u001b[38;5;28;43mint\u001b[39;49m\u001b[43m(\u001b[49m\u001b[43mc1\u001b[49m\u001b[43m)\u001b[49m\u001b[43m \u001b[49m\u001b[38;5;241;43m*\u001b[39;49m\u001b[38;5;241;43m*\u001b[39;49m\u001b[43m \u001b[49m\u001b[38;5;28;43mint\u001b[39;49m\u001b[43m(\u001b[49m\u001b[43mc2\u001b[49m\u001b[43m)\u001b[49m\u001b[43m)\u001b[49m\u001b[43m \u001b[49m\u001b[38;5;241;43m%\u001b[39;49m\u001b[43m \u001b[49m\u001b[43mp\u001b[49m\u001b[43m \u001b[49m\u001b[38;5;28;43;01mfor\u001b[39;49;00m\u001b[43m \u001b[49m\u001b[43mc1\u001b[49m\u001b[43m,\u001b[49m\u001b[43m \u001b[49m\u001b[43mc2\u001b[49m\u001b[43m \u001b[49m\u001b[38;5;129;43;01min\u001b[39;49;00m\u001b[43m \u001b[49m\u001b[38;5;28;43mzip\u001b[39;49m\u001b[43m(\u001b[49m\u001b[43mcoeffs1\u001b[49m\u001b[43m,\u001b[49m\u001b[43m \u001b[49m\u001b[43mcoeffs2\u001b[49m\u001b[43m)\u001b[49m\u001b[43m]\u001b[49m\n\u001b[1;32m      9\u001b[0m \u001b[38;5;66;03m# Construct the result as a finite field element\u001b[39;00m\n\u001b[1;32m     10\u001b[0m result \u001b[38;5;241m=\u001b[39m \u001b[38;5;28msum\u001b[39m(F(c) \u001b[38;5;241m*\u001b[39m (i\u001b[38;5;241m*\u001b[39m\u001b[38;5;241m*\u001b[39mn) \u001b[38;5;28;01mfor\u001b[39;00m n, c \u001b[38;5;129;01min\u001b[39;00m \u001b[38;5;28menumerate\u001b[39m(coeffs_xor))\n",
      "Cell \u001b[0;32mIn [26], line 7\u001b[0m, in \u001b[0;36m<listcomp>\u001b[0;34m(.0)\u001b[0m\n\u001b[1;32m      4\u001b[0m coeffs2 \u001b[38;5;241m=\u001b[39m element2\u001b[38;5;241m.\u001b[39mpolynomial()\u001b[38;5;241m.\u001b[39mcoefficients()\n\u001b[1;32m      6\u001b[0m \u001b[38;5;66;03m# Perform the XOR operation on the corresponding coefficients\u001b[39;00m\n\u001b[0;32m----> 7\u001b[0m coeffs_xor \u001b[38;5;241m=\u001b[39m [(\u001b[38;5;28;43mint\u001b[39;49m\u001b[43m(\u001b[49m\u001b[43mc1\u001b[49m\u001b[43m)\u001b[49m\u001b[43m \u001b[49m\u001b[38;5;241;43m*\u001b[39;49m\u001b[38;5;241;43m*\u001b[39;49m\u001b[43m \u001b[49m\u001b[38;5;28;43mint\u001b[39;49m\u001b[43m(\u001b[49m\u001b[43mc2\u001b[49m\u001b[43m)\u001b[49m) \u001b[38;5;241m%\u001b[39m p \u001b[38;5;28;01mfor\u001b[39;00m c1, c2 \u001b[38;5;129;01min\u001b[39;00m \u001b[38;5;28mzip\u001b[39m(coeffs1, coeffs2)]\n\u001b[1;32m      9\u001b[0m \u001b[38;5;66;03m# Construct the result as a finite field element\u001b[39;00m\n\u001b[1;32m     10\u001b[0m result \u001b[38;5;241m=\u001b[39m \u001b[38;5;28msum\u001b[39m(F(c) \u001b[38;5;241m*\u001b[39m (i\u001b[38;5;241m*\u001b[39m\u001b[38;5;241m*\u001b[39mn) \u001b[38;5;28;01mfor\u001b[39;00m n, c \u001b[38;5;129;01min\u001b[39;00m \u001b[38;5;28menumerate\u001b[39m(coeffs_xor))\n",
      "File \u001b[0;32msrc/cysignals/signals.pyx:310\u001b[0m, in \u001b[0;36mcysignals.signals.python_check_interrupt\u001b[0;34m()\u001b[0m\n",
      "\u001b[0;31mKeyboardInterrupt\u001b[0m: "
     ]
    }
   ],
   "source": [
    "field_elemnts_xor(secA, secB,p)"
   ]
  },
  {
   "cell_type": "code",
   "execution_count": 31,
   "metadata": {
    "collapsed": false
   },
   "outputs": [
    {
     "name": "stdout",
     "output_type": "stream",
     "text": [
      "Binary representation: 00000100000010101010001100001010101111010001100110111010111001111001010000001001000010001110001010010110010001110100000000110101011100110011100000000110001111011101110111010000010110111111001010000110101100001100011000010010011101001011111110110000111001111010001000001011001111001100111111001010000001011000011011000000101110101110000010100100101000000010010001\n",
      "Reconstructed element: 1512330855068846250116110886212743836858467411498795153*i + 48387951935239277685673739300608090652766002669664779\n"
     ]
    }
   ],
   "source": [
    "def binary_to_finite_field_element(binary_str, p, F):\n",
    "    # Bit length of each coefficient\n",
    "    bit_length = p.bit_length()\n",
    "    \n",
    "    # Number of coefficients (for x^2 + 1 there should be 2 coefficients)\n",
    "    num_coefficients = 2\n",
    "    \n",
    "    # Extract coefficients from the binary string\n",
    "    coefficients = [int(binary_str[i*bit_length:(i+1)*bit_length], 2) for i in range(num_coefficients)]\n",
    "    \n",
    "    # Reconstruct the finite field element\n",
    "    element = sum(F(coeff) * (F.gen()^n) for n, coeff in enumerate(coefficients))\n",
    "    \n",
    "    return element\n",
    "\n",
    "# Example usage\n",
    "\n",
    "\n",
    "# Define a finite field element for testing\n",
    "secB = 1512330855068846250116110886212743836858467411498795153*i + 48387951935239277685673739300608090652766002669664779\n",
    "\n",
    "# Convert the element to its binary representation\n",
    "binary_str1 = binary_representation(secB, p)\n",
    "print(\"Binary representation:\", binary_str)\n",
    "\n",
    "# Convert the binary string back to a finite field element\n",
    "element_back = binary_to_finite_field_element(binary_str, p, F)\n",
    "print(\"Reconstructed element:\", element_back)"
   ]
  },
  {
   "cell_type": "code",
   "execution_count": 0,
   "metadata": {
    "collapsed": false
   },
   "outputs": [
   ],
   "source": [
   ]
  },
  {
   "cell_type": "code",
   "execution_count": 32,
   "metadata": {
    "collapsed": false
   },
   "outputs": [
    {
     "name": "stdout",
     "output_type": "stream",
     "text": [
      "Binary representation: 00000100000010101010001100001010101111010001100110111010111001111001010000001001000010001110001010010110010001110100000000110101011100110011100000000110001111011101110111010000010110111111001010000110101100001100011000010010011101001011111110110000111001111010001000001011001111001100111111001010000001011000011011000000101110101110000010100100101000000010010001\n",
      "Reconstructed element: 1512330855068846250116110886212743836858467411498795153*i + 48387951935239277685673739300608090652766002669664779\n"
     ]
    }
   ],
   "source": [
    "# Convert the element to its binary representation\n",
    "binary_str2 = binary_representation(secA, p)\n",
    "print(\"Binary representation:\", binary_str)\n",
    "\n",
    "# Convert the binary string back to a finite field element\n",
    "element_back = binary_to_finite_field_element(binary_str, p, F)\n",
    "print(\"Reconstructed element:\", element_back)"
   ]
  },
  {
   "cell_type": "code",
   "execution_count": 33,
   "metadata": {
    "collapsed": false
   },
   "outputs": [
   ],
   "source": [
    "def xor_binary_strings(bin_str1, bin_str2):\n",
    "    # Ensure both binary strings are of the same length\n",
    "    max_len = max(len(bin_str1), len(bin_str2))\n",
    "    bin_str1 = bin_str1.zfill(max_len)\n",
    "    bin_str2 = bin_str2.zfill(max_len)\n",
    "    \n",
    "    # Perform XOR operation bit by bit\n",
    "    xor_result = ''.join('1' if b1 != b2 else '0' for b1, b2 in zip(bin_str1, bin_str2))\n",
    "    \n",
    "    return xor_result"
   ]
  },
  {
   "cell_type": "code",
   "execution_count": 34,
   "metadata": {
    "collapsed": false
   },
   "outputs": [
    {
     "data": {
      "text/plain": [
       "'00000000000000000000000000000000000000000000000000000000000000000000000000000000000000000000000000000000000000000000000000000000000000000000000000000000000000000000000000000000000000000000000000000000000000000000000000000000000000000000000000000000000000000000000000000000000000000000000000000000000000000000000000000000000000000000000000000000000000000000000000'"
      ]
     },
     "execution_count": 34,
     "metadata": {
     },
     "output_type": "execute_result"
    }
   ],
   "source": [
    "xor_binary_strings(binary_str1, binary_str2)"
   ]
  },
  {
   "cell_type": "code",
   "execution_count": 36,
   "metadata": {
    "collapsed": false
   },
   "outputs": [
    {
     "data": {
      "text/plain": [
       "0"
      ]
     },
     "execution_count": 36,
     "metadata": {
     },
     "output_type": "execute_result"
    }
   ],
   "source": [
    "binary_to_finite_field_element(xor_binary_strings(binary_str1, binary_str2), p, F)"
   ]
  },
  {
   "cell_type": "code",
   "execution_count": 37,
   "metadata": {
    "collapsed": false
   },
   "outputs": [
   ],
   "source": [
    "# Function to convert a ring element to binary\n",
    "def ring_element_to_binary(ring_element, a):\n",
    "    # Convert the ring element to binary and ensure it has enough bits\n",
    "    return bin(ring_element)[2:].zfill(a.bit_length())"
   ]
  },
  {
   "cell_type": "code",
   "execution_count": 41,
   "metadata": {
    "collapsed": false
   },
   "outputs": [
    {
     "data": {
      "text/plain": [
       "'10010011000100011100111100000011011111100011010001111100100010101101110000110110010110'"
      ]
     },
     "execution_count": 41,
     "metadata": {
     },
     "output_type": "execute_result"
    }
   ],
   "source": [
    "k = random.randrange(61790323281691893111408549)\n",
    "k = ring_element_to_binary(k, 61790323281691893111408549)\n",
    "k"
   ]
  },
  {
   "cell_type": "code",
   "execution_count": 42,
   "metadata": {
    "collapsed": false
   },
   "outputs": [
    {
     "data": {
      "text/plain": [
       "'00000100000010101010001100001010101111010001100110111010111001111001010000001001000010001110001010010110010001110100000000110101011100110011100000000110001111011101110111010000010110111111001010000110101100001100011000010010011101001011111110110000111001111010001000001011001101011111111011010110111101011011000100100011111111010010100000001001011000110100000111'"
      ]
     },
     "execution_count": 42,
     "metadata": {
     },
     "output_type": "execute_result"
    }
   ],
   "source": [
    "xor_binary_strings(binary_str1, k)"
   ]
  },
  {
   "cell_type": "code",
   "execution_count": 0,
   "metadata": {
    "collapsed": false
   },
   "outputs": [
   ],
   "source": [
    "# method to progress in the tree"
   ]
  }
 ],
 "metadata": {
  "kernelspec": {
   "argv": [
    "sage-10.0",
    "--python",
    "-m",
    "sage.repl.ipython_kernel",
    "--matplotlib=inline",
    "-f",
    "{connection_file}"
   ],
   "display_name": "SageMath 10.0",
   "env": {
   },
   "language": "sagemath",
   "metadata": {
    "cocalc": {
     "description": "Open-source mathematical software system",
     "priority": 1,
     "url": "https://www.sagemath.org/"
    }
   },
   "name": "sage-10.0",
   "resource_dir": "/ext/jupyter/kernels/sage-10.0"
  },
  "language_info": {
   "codemirror_mode": {
    "name": "ipython",
    "version": 3
   },
   "file_extension": ".py",
   "mimetype": "text/x-python",
   "name": "python",
   "nbconvert_exporter": "python",
   "pygments_lexer": "ipython3",
   "version": "3.11.1"
  }
 },
 "nbformat": 4,
 "nbformat_minor": 4
}